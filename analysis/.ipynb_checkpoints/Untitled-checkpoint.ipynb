{
 "cells": [
  {
   "cell_type": "code",
   "execution_count": 1,
   "metadata": {},
   "outputs": [],
   "source": [
    "import pathlib\n",
    "import xml.etree.ElementTree as ET\n",
    "\n",
    "import pandas as pd\n",
    "import numpy as np\n",
    "\n",
    "\n",
    "data_path = pathlib.Path(\"..\\\\data\")"
   ]
  },
  {
   "cell_type": "markdown",
   "metadata": {},
   "source": [
    "# Read data"
   ]
  },
  {
   "cell_type": "code",
   "execution_count": 2,
   "metadata": {},
   "outputs": [],
   "source": [
    "root = ET.parse(data_path / \"Half-Life_-_WON_Easy.lss\").getroot()"
   ]
  },
  {
   "cell_type": "code",
   "execution_count": 3,
   "metadata": {},
   "outputs": [
    {
     "data": {
      "text/html": [
       "<div>\n",
       "<style scoped>\n",
       "    .dataframe tbody tr th:only-of-type {\n",
       "        vertical-align: middle;\n",
       "    }\n",
       "\n",
       "    .dataframe tbody tr th {\n",
       "        vertical-align: top;\n",
       "    }\n",
       "\n",
       "    .dataframe thead th {\n",
       "        text-align: right;\n",
       "    }\n",
       "</style>\n",
       "<table border=\"1\" class=\"dataframe\">\n",
       "  <thead>\n",
       "    <tr style=\"text-align: right;\">\n",
       "      <th></th>\n",
       "      <th>started</th>\n",
       "      <th>isStartedSynced</th>\n",
       "      <th>ended</th>\n",
       "      <th>isEndedSynced</th>\n",
       "    </tr>\n",
       "    <tr>\n",
       "      <th>id</th>\n",
       "      <th></th>\n",
       "      <th></th>\n",
       "      <th></th>\n",
       "      <th></th>\n",
       "    </tr>\n",
       "  </thead>\n",
       "  <tbody>\n",
       "    <tr>\n",
       "      <th>1</th>\n",
       "      <td>2018-01-17 17:45:30</td>\n",
       "      <td>True</td>\n",
       "      <td>2018-01-17 17:45:38</td>\n",
       "      <td>True</td>\n",
       "    </tr>\n",
       "    <tr>\n",
       "      <th>2</th>\n",
       "      <td>2018-01-17 17:45:38</td>\n",
       "      <td>True</td>\n",
       "      <td>2018-01-17 17:46:11</td>\n",
       "      <td>True</td>\n",
       "    </tr>\n",
       "    <tr>\n",
       "      <th>3</th>\n",
       "      <td>2018-01-17 17:46:11</td>\n",
       "      <td>True</td>\n",
       "      <td>2018-01-17 17:47:00</td>\n",
       "      <td>True</td>\n",
       "    </tr>\n",
       "    <tr>\n",
       "      <th>4</th>\n",
       "      <td>2018-01-17 17:47:05</td>\n",
       "      <td>True</td>\n",
       "      <td>2018-01-17 17:48:11</td>\n",
       "      <td>True</td>\n",
       "    </tr>\n",
       "    <tr>\n",
       "      <th>5</th>\n",
       "      <td>2018-01-17 17:48:11</td>\n",
       "      <td>True</td>\n",
       "      <td>2018-01-17 17:48:21</td>\n",
       "      <td>True</td>\n",
       "    </tr>\n",
       "  </tbody>\n",
       "</table>\n",
       "</div>"
      ],
      "text/plain": [
       "               started  isStartedSynced               ended  isEndedSynced\n",
       "id                                                                        \n",
       "1  2018-01-17 17:45:30             True 2018-01-17 17:45:38           True\n",
       "2  2018-01-17 17:45:38             True 2018-01-17 17:46:11           True\n",
       "3  2018-01-17 17:46:11             True 2018-01-17 17:47:00           True\n",
       "4  2018-01-17 17:47:05             True 2018-01-17 17:48:11           True\n",
       "5  2018-01-17 17:48:11             True 2018-01-17 17:48:21           True"
      ]
     },
     "execution_count": 3,
     "metadata": {},
     "output_type": "execute_result"
    }
   ],
   "source": [
    "runs = (\n",
    "    pd.DataFrame(\n",
    "        data=[element.attrib for element in root.find(\"AttemptHistory\").findall(\"Attempt\")]\n",
    "    )\n",
    "    .set_index(\"id\")\n",
    "    .astype({\"isStartedSynced\": bool, \"isEndedSynced\": bool})\n",
    ")\n",
    "runs.loc[:, \"started\"] = pd.to_datetime(runs.loc[:, \"started\"])\n",
    "runs.loc[:, \"ended\"] = pd.to_datetime(runs.loc[:, \"ended\"])\n",
    "runs.head()"
   ]
  },
  {
   "cell_type": "code",
   "execution_count": 4,
   "metadata": {},
   "outputs": [
    {
     "data": {
      "text/html": [
       "<div>\n",
       "<style scoped>\n",
       "    .dataframe tbody tr th:only-of-type {\n",
       "        vertical-align: middle;\n",
       "    }\n",
       "\n",
       "    .dataframe tbody tr th {\n",
       "        vertical-align: top;\n",
       "    }\n",
       "\n",
       "    .dataframe thead th {\n",
       "        text-align: right;\n",
       "    }\n",
       "</style>\n",
       "<table border=\"1\" class=\"dataframe\">\n",
       "  <thead>\n",
       "    <tr style=\"text-align: right;\">\n",
       "      <th></th>\n",
       "      <th>Name</th>\n",
       "      <th>id</th>\n",
       "      <th>RealTime</th>\n",
       "      <th>GameTime</th>\n",
       "    </tr>\n",
       "  </thead>\n",
       "  <tbody>\n",
       "    <tr>\n",
       "      <th>0</th>\n",
       "      <td>Anomalous Materials</td>\n",
       "      <td>700</td>\n",
       "      <td>00:04:29.376000</td>\n",
       "      <td>00:04:22.567000</td>\n",
       "    </tr>\n",
       "    <tr>\n",
       "      <th>1</th>\n",
       "      <td>Anomalous Materials</td>\n",
       "      <td>699</td>\n",
       "      <td>00:04:14.128000</td>\n",
       "      <td>00:04:11.970000</td>\n",
       "    </tr>\n",
       "    <tr>\n",
       "      <th>2</th>\n",
       "      <td>Anomalous Materials</td>\n",
       "      <td>697</td>\n",
       "      <td>00:04:14.768000</td>\n",
       "      <td>00:04:12.689000</td>\n",
       "    </tr>\n",
       "    <tr>\n",
       "      <th>3</th>\n",
       "      <td>Anomalous Materials</td>\n",
       "      <td>696</td>\n",
       "      <td>00:04:16.819000</td>\n",
       "      <td>00:04:14.321000</td>\n",
       "    </tr>\n",
       "    <tr>\n",
       "      <th>4</th>\n",
       "      <td>Anomalous Materials</td>\n",
       "      <td>1375</td>\n",
       "      <td>00:04:21.312000</td>\n",
       "      <td>00:04:18.196000</td>\n",
       "    </tr>\n",
       "  </tbody>\n",
       "</table>\n",
       "</div>"
      ],
      "text/plain": [
       "                  Name    id        RealTime        GameTime\n",
       "0  Anomalous Materials   700 00:04:29.376000 00:04:22.567000\n",
       "1  Anomalous Materials   699 00:04:14.128000 00:04:11.970000\n",
       "2  Anomalous Materials   697 00:04:14.768000 00:04:12.689000\n",
       "3  Anomalous Materials   696 00:04:16.819000 00:04:14.321000\n",
       "4  Anomalous Materials  1375 00:04:21.312000 00:04:18.196000"
      ]
     },
     "execution_count": 4,
     "metadata": {},
     "output_type": "execute_result"
    }
   ],
   "source": [
    "segments = []\n",
    "for segment in root.find(\"Segments\").findall(\"Segment\"):\n",
    "    name = segment.find(\"Name\").text\n",
    "    for segment_time in segment.find(\"SegmentHistory\").findall(\"Time\"):\n",
    "        try:\n",
    "            real_time = pd.to_timedelta(segment_time.find(\"RealTime\").text)\n",
    "        except AttributeError:\n",
    "            real_time = np.nan\n",
    "        try:\n",
    "            game_time = pd.to_timedelta(segment_time.find(\"GameTime\").text)\n",
    "        except AttributeError:\n",
    "            game_time = np.nan\n",
    "        segments.append(\n",
    "            {\n",
    "                \"Name\": name,\n",
    "                \"id\": int(segment_time.attrib[\"id\"]),\n",
    "                \"RealTime\": real_time,\n",
    "                \"GameTime\": game_time\n",
    "            }\n",
    "        )\n",
    "segments = pd.DataFrame(data=segments)\n",
    "segments.head()"
   ]
  },
  {
   "cell_type": "code",
   "execution_count": 5,
   "metadata": {},
   "outputs": [
    {
     "data": {
      "text/plain": [
       "array(['Anomalous Materials', 'Unforeseen Consequences', 'Office Complex',\n",
       "       '\"We\\'ve Got Hostiles\"', 'Blast Pit', 'Power Up', 'On A Rail',\n",
       "       'Apprehension', 'Residue Processing', 'Questionable Ethics',\n",
       "       'Surface Tension', '\"Forget About Freeman!\" ', 'Lambda Core',\n",
       "       'Xen', \"Gonarch's Lair\", 'Interloper', 'Nihilanth'], dtype=object)"
      ]
     },
     "execution_count": 5,
     "metadata": {},
     "output_type": "execute_result"
    }
   ],
   "source": [
    "segments.Name.unique()"
   ]
  }
 ],
 "metadata": {
  "kernelspec": {
   "display_name": "Python 3",
   "language": "python",
   "name": "python3"
  },
  "language_info": {
   "codemirror_mode": {
    "name": "ipython",
    "version": 3
   },
   "file_extension": ".py",
   "mimetype": "text/x-python",
   "name": "python",
   "nbconvert_exporter": "python",
   "pygments_lexer": "ipython3",
   "version": "3.7.6"
  }
 },
 "nbformat": 4,
 "nbformat_minor": 4
}
